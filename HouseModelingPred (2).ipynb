{
  "nbformat": 4,
  "nbformat_minor": 0,
  "metadata": {
    "colab": {
      "provenance": []
    },
    "kernelspec": {
      "name": "python3",
      "display_name": "Python 3"
    },
    "language_info": {
      "name": "python"
    }
  },
  "cells": [
    {
      "cell_type": "markdown",
      "source": [],
      "metadata": {
        "id": "QqxUISOt55Jh"
      }
    },
    {
      "cell_type": "code",
      "execution_count": 1,
      "metadata": {
        "colab": {
          "base_uri": "https://localhost:8080/"
        },
        "id": "c3ugH3pKPnel",
        "outputId": "88c996de-9464-4e3c-89ae-3d801d2ec53f"
      },
      "outputs": [
        {
          "output_type": "stream",
          "name": "stdout",
          "text": [
            "   tx_price  beds  baths  sqft  year_built\n",
            "0    295850     1      1   584        2013\n",
            "1    216500     1      1   612        1965\n",
            "2    279900     1      1   615        1963\n",
            "3    379900     1      1   618        2000\n",
            "4    340000     1      1   634        1992\n",
            "tx_price      0\n",
            "beds          0\n",
            "baths         0\n",
            "sqft          0\n",
            "year_built    0\n",
            "dtype: int64\n"
          ]
        }
      ],
      "source": [
        "# Import libraries\n",
        "import pandas as pd\n",
        "from sklearn.model_selection import train_test_split\n",
        "from sklearn.linear_model import LinearRegression\n",
        "from sklearn.metrics import mean_squared_error\n",
        "# Load the data (assuming the file is already uploaded)\n",
        "data = pd.read_csv('cleaned_real_estate_data.csv')\n",
        "\n",
        "# Display the first few rows\n",
        "print(data.head())\n",
        "\n",
        "# Step 1: Data Cleaning (if needed)\n",
        "print(data.isnull().sum()) # Check for missing values\n",
        "\n",
        "# Step 2: Feature Selection\n",
        "# Use the correct column names from your dataset\n",
        "X = data[['beds', 'baths', 'sqft', 'year_built']]\n",
        "y = data['tx_price'] # Target column\n",
        "\n",
        "# Step 3: Split the data into training and test sets\n",
        "X_train, X_test, y_train, y_test = train_test_split(X, y, test_size=0.2, random_state=42)\n",
        "\n",
        "# Step 4: Model Training\n",
        "# Using Linear Regression\n",
        "model = LinearRegression()\n",
        "model.fit(X_train, y_train)\n",
        "\n",
        "# Step 5: Model Evaluation\n",
        "# Make predictions on the test set\n",
        "y_pred = model.predict(X_test)"
      ]
    },
    {
      "cell_type": "code",
      "source": [
        "# Calculate Mean Squared Error (MSE) for evaluation\n",
        "mse = mean_squared_error(y_test, y_pred)\n",
        "print(f'Mean Squared Error: {mse}')"
      ],
      "metadata": {
        "colab": {
          "base_uri": "https://localhost:8080/"
        },
        "id": "L5Isrzx1QrPx",
        "outputId": "4d95b02f-70a7-4aa9-c593-9d2ef6272224"
      },
      "execution_count": 2,
      "outputs": [
        {
          "output_type": "stream",
          "name": "stdout",
          "text": [
            "Mean Squared Error: 17957350951.99832\n"
          ]
        }
      ]
    },
    {
      "cell_type": "code",
      "source": [
        "# Step 6: User Input for Prediction\n",
        "def predict_tax_price():\n",
        "  print(\"Enter property details:\")\n",
        "  beds = float(input(\"Number of bedrooms: \"))\n",
        "  baths = float(input(\"Number of bathrooms: \"))\n",
        "  sqft = float(input(\"Square footage: \"))\n",
        "  year_built = int(input(\"Year built: \"))\n",
        "  # Create a dataframe for the input\n",
        "  input_data = pd.DataFrame([[beds, baths, sqft, year_built]], columns=['beds', 'baths', 'sqft', 'year_built'])\n",
        "  # Predict the tax price\n",
        "  predicted_tax_price = model.predict(input_data)\n",
        "  print(f\"Predicted Tax Price: ${predicted_tax_price[0]:,.2f}\")\n",
        "\n",
        "userIn = 'c'\n",
        "while userIn != 'q':\n",
        "  # Call the prediction function\n",
        "  predict_tax_price()\n",
        "  userIn = input(\"Enter 'q' to quit. To continue enter any other key.\")\n"
      ],
      "metadata": {
        "colab": {
          "base_uri": "https://localhost:8080/"
        },
        "id": "um1Ny0WRQtq7",
        "outputId": "984d4e3e-8966-4f3d-8a94-86952a7b8049"
      },
      "execution_count": 3,
      "outputs": [
        {
          "name": "stdout",
          "output_type": "stream",
          "text": [
            "Enter property details:\n",
            "Number of bedrooms: 1\n",
            "Number of bathrooms: 1.5\n",
            "Square footage: 3000\n",
            "Year built: 1999\n",
            "Predicted Tax Price: $407,376.35\n",
            "Enter 'q' to quit. To continue enter any other key.q\n"
          ]
        }
      ]
    }
  ]
}